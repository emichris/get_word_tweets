{
 "cells": [
  {
   "cell_type": "markdown",
   "metadata": {},
   "source": [
    "# Gathering Tweet Data using twitter module tweety\n",
    "Information about the Twitter api can be found at [docs.tweepy.org](http://docs.tweepy.org/en/v3.1.0/api.html#API.search)\n",
    "Additional and updated information about Twitter's `Standard Search api` can be found [here](https://developer.twitter.com/en/docs/tweets/search/api-reference/get-search-tweets)\n"
   ]
  },
  {
   "cell_type": "code",
   "execution_count": 1,
   "metadata": {},
   "outputs": [],
   "source": [
    "import tweepy\n",
    "import pandas as pd\n",
    "\n",
    "import matplotlib.pyplot as plt\n",
    "\n",
    "# Get your Twitter API credentials and enter them here\n",
    "consumer_key = ''\n",
    "consumer_secret = ''\n",
    "access_token = ''\n",
    "access_token_secret = ''\n",
    "\n",
    "\n",
    "auth = tweepy.OAuthHandler(consumer_key, consumer_secret)\n",
    "auth.set_access_token(access_token, access_token_secret)\n",
    "\n",
    "# authenticate the api with token and access information\n",
    "api = tweepy.API(auth)"
   ]
  },
  {
   "cell_type": "code",
   "execution_count": 2,
   "metadata": {},
   "outputs": [
    {
     "name": "stdout",
     "output_type": "stream",
     "text": [
      "0 California HHS server crashed. Maybe it has covid. https://t.co/eGkdPmBpAK\n",
      "1 Nothing beats well documented code... Thanks to @applepie and Pablo Rivera  for Tweepy Python Library and developer… https://t.co/WL4NGOjoF8\n",
      "2 Actual data reference CHHS https://t.co/q7c7708ozx\n",
      "3 Hospitals in California have been half empty this whole time https://t.co/8GL2BLypqV\n",
      "4 RT @Lebeaucarnews: $TSLA CEO @elonmusk blasts shelter in place orders: “To say that they cannot leave their house and they will be arrested…\n",
      "5 Our developer community is full of inspiring ideas that help the world learn from and improve our collective prepar… https://t.co/XObxbOQqmQ\n",
      "6 This new streaming endpoint is available in Twitter Developer Labs and provides comprehensive access to COVID-19 re… https://t.co/wFylrCYJI8\n",
      "7 The volume of conversation about COVID-19 is tremendous, which means it requires expertise and computational resour… https://t.co/Rzsa9P2Bn1\n",
      "8 During these unprecedented times, what’s happening on Twitter can help the world better understand &amp; respond to the… https://t.co/X5ZVcb6m1j\n",
      "9 You're up for some fun today and looking for an adventure, and... More for Pisces https://t.co/PMQHAipvly\n"
     ]
    }
   ],
   "source": [
    "# API.home_timeline returns the 'n' most recent statuses, including retweets, \n",
    "# posted by the authenticating user and that user’s friends. \n",
    "\n",
    "public_tweets = api.home_timeline(count = 10)\n",
    "for i, tweet in enumerate(public_tweets):\n",
    "     print (i, tweet.text)"
   ]
  },
  {
   "cell_type": "code",
   "execution_count": 3,
   "metadata": {},
   "outputs": [
    {
     "name": "stdout",
     "output_type": "stream",
     "text": [
      "0 RT @QuickTake: 💕 \"The meeting was at full capacity throughout the 2 hours and 30 minutes.\"\n",
      "\n",
      "This couple in Mumbai held a #StayAtHome weddin…\n",
      "1 RT @AlmaEgann: Tweeter Friends \n",
      "Happy Thursday \n",
      "Park in Japan 🇯🇵 \n",
      "\n",
      "#StayAtHome https://t.co/FSTSsryJ0n\n",
      "2 RT @FIFAWorldCup: 1990 ⏭ 2019\n",
      "\n",
      "From Messi magic at the #U20WC to an epic @BelRedDevils comeback, we’ve got #WorldCup history spanning 29 ye…\n",
      "3 RT @SeanOnTV: Do you agree with @dougducey extending the #StayAtHome order + travel restrictions until May 15th? #azfamily #COVID19\n",
      "4 RT @UNESCO: The story of Jazz is written into the quest for human dignity, democracy &amp; civil rights.\n",
      "\n",
      "Photographer Jürgen Schadeberg’s work…\n"
     ]
    }
   ],
   "source": [
    "# Use the API.search eturns tweets that match a specified query\n",
    "# reference: http://docs.tweepy.org/en/v3.1.0/api.html#API.search\n",
    "\n",
    "covid_tweets = api.search('StayAtHome', lang='en')\n",
    "for i, t in enumerate(covid_tweets):\n",
    "    if i > 4: break\n",
    "    print(i, t.text)"
   ]
  },
  {
   "cell_type": "code",
   "execution_count": 4,
   "metadata": {},
   "outputs": [
    {
     "name": "stdout",
     "output_type": "stream",
     "text": [
      "contributors                                                                            None\n",
      "coordinates                                                                             None\n",
      "created_at                                                    Thu Apr 30 03:24:29 +0000 2020\n",
      "entities.hashtags                          [{'text': 'StayAtHome', 'indices': [57, 68]}, ...\n",
      "entities.media                                                                           NaN\n",
      "entities.symbols                                                                          []\n",
      "entities.urls                                                                             []\n",
      "entities.user_mentions                     [{'screen_name': 'SeanOnTV', 'name': 'Sean McL...\n",
      "extended_entities.media                                                                  NaN\n",
      "favorite_count                                                                             0\n",
      "favorited                                                                              False\n",
      "geo                                                                                     None\n",
      "id                                                                       1255699515945832448\n",
      "id_str                                                                   1255699515945832448\n",
      "in_reply_to_screen_name                                                                 None\n",
      "in_reply_to_status_id                                                                   None\n",
      "in_reply_to_status_id_str                                                               None\n",
      "in_reply_to_user_id                                                                     None\n",
      "in_reply_to_user_id_str                                                                 None\n",
      "is_quote_status                                                                        False\n",
      "lang                                                                                      en\n",
      "metadata.iso_language_code                                                                en\n",
      "metadata.result_type                                                                  recent\n",
      "place                                                                                   None\n",
      "possibly_sensitive                                                                       NaN\n",
      "retweet_count                                                                            155\n",
      "retweeted                                                                              False\n",
      "retweeted_status.contributors                                                            NaN\n",
      "retweeted_status.coordinates                                                             NaN\n",
      "retweeted_status.created_at                                   Wed Apr 29 22:21:54 +0000 2020\n",
      "                                                                 ...                        \n",
      "user.has_extended_profile                                                              False\n",
      "user.id                                                                           2655203862\n",
      "user.id_str                                                                       2655203862\n",
      "user.is_translation_enabled                                                            False\n",
      "user.is_translator                                                                     False\n",
      "user.lang                                                                               None\n",
      "user.listed_count                                                                        153\n",
      "user.location                                                                               \n",
      "user.name                                                                         Bella Dawn\n",
      "user.notifications                                                                     False\n",
      "user.profile_background_color                                                         C0DEED\n",
      "user.profile_background_image_url           http://abs.twimg.com/images/themes/theme1/bg.png\n",
      "user.profile_background_image_url_https    https://abs.twimg.com/images/themes/theme1/bg.png\n",
      "user.profile_background_tile                                                           False\n",
      "user.profile_banner_url                                                                  NaN\n",
      "user.profile_image_url                     http://pbs.twimg.com/profile_images/5703640715...\n",
      "user.profile_image_url_https               https://pbs.twimg.com/profile_images/570364071...\n",
      "user.profile_link_color                                                               1DA1F2\n",
      "user.profile_sidebar_border_color                                                     C0DEED\n",
      "user.profile_sidebar_fill_color                                                       DDEEF6\n",
      "user.profile_text_color                                                               333333\n",
      "user.profile_use_background_image                                                       True\n",
      "user.protected                                                                         False\n",
      "user.screen_name                                                              BellaDawn01527\n",
      "user.statuses_count                                                                   206652\n",
      "user.time_zone                                                                          None\n",
      "user.translator_type                                                                    none\n",
      "user.url                                                                                None\n",
      "user.utc_offset                                                                         None\n",
      "user.verified                                                                          False\n",
      "Name: 0, Length: 145, dtype: object\n"
     ]
    }
   ],
   "source": [
    "# Convert twitter results to pandas dataframe for further analysis\n",
    "results = api.search(q='StayAtHome', count=5)\n",
    "json_data = [r._json for r in results]\n",
    "df = pd.io.json.json_normalize(json_data)\n",
    "print(df.loc[0, :])"
   ]
  },
  {
   "cell_type": "markdown",
   "metadata": {},
   "source": [
    "## Create function to pull  twitter text given a query"
   ]
  },
  {
   "cell_type": "code",
   "execution_count": 8,
   "metadata": {},
   "outputs": [],
   "source": [
    "def get_word_tweets(query='StayAtHome', num_result = 100):\n",
    "    '''\n",
    "    input: \n",
    "        api - twitter ai\n",
    "        query - words to use for query \n",
    "        num_result \n",
    "    ouput: \n",
    "        a transformed data frame object\n",
    "    '''\n",
    "     \n",
    "    json_data = []; n = 0;\n",
    "    while n < num_result: \n",
    "        for search_result in api.search(query, lang='en', count=num_result-n):\n",
    "            if n > num_result: \n",
    "                break \n",
    "            n = n + 1\n",
    "            json_data.append(search_result._json)\n",
    "    \n",
    "    df = pd.io.json.json_normalize(json_data)\n",
    "    \n",
    "    return df[['id', 'created_at', 'text', 'favorite_count', 'retweet_count', 'truncated']]"
   ]
  },
  {
   "cell_type": "code",
   "execution_count": 9,
   "metadata": {},
   "outputs": [
    {
     "name": "stdout",
     "output_type": "stream",
     "text": [
      "['RT @Omkar_Raii: .@Vivo_India donating 15,000 PPE suits and 50,000 litres of sanitizer to the central government to protect caregivers and h…', 'RT @drvishalrao: How Plasma Therapy Works\\n\\n#covid19 #plasmatherapy https://t.co/PcI4TVlCwP', 'RT @RahulGandhi: At 9 AM today, you can watch my conversation with Dr Raghuram Rajan, former RBI Governor, on dealing with the #Covid19 cri…', 'RT @BrentToderian: Yet another reminder that there’s a difference between density and crowding. #PhysicalDistancing #COVID19 #coronavirus V…', 'RT @RahulGandhi: At 9 AM today, you can watch my conversation with Dr Raghuram Rajan, former RBI Governor, on dealing with the #Covid19 cri…']\n"
     ]
    }
   ],
   "source": [
    "df = get_word_tweets('Covid19', 10)\n",
    "print(list(df.text.head()))"
   ]
  },
  {
   "cell_type": "code",
   "execution_count": null,
   "metadata": {},
   "outputs": [],
   "source": []
  }
 ],
 "metadata": {
  "kernelspec": {
   "display_name": "Python 3",
   "language": "python",
   "name": "python3"
  },
  "language_info": {
   "codemirror_mode": {
    "name": "ipython",
    "version": 3
   },
   "file_extension": ".py",
   "mimetype": "text/x-python",
   "name": "python",
   "nbconvert_exporter": "python",
   "pygments_lexer": "ipython3",
   "version": "3.7.3"
  }
 },
 "nbformat": 4,
 "nbformat_minor": 2
}
